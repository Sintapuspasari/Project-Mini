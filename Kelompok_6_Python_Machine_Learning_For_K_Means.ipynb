{
  "nbformat": 4,
  "nbformat_minor": 0,
  "metadata": {
    "colab": {
      "name": "Kelompok 6_Python  Machine Learning For K-Means.ipynb",
      "provenance": [],
      "collapsed_sections": [],
      "include_colab_link": true
    },
    "kernelspec": {
      "name": "python3",
      "display_name": "Python 3"
    },
    "language_info": {
      "name": "python"
    }
  },
  "cells": [
    {
      "cell_type": "markdown",
      "metadata": {
        "id": "view-in-github",
        "colab_type": "text"
      },
      "source": [
        "<a href=\"https://colab.research.google.com/github/Sintapuspasari/Project-Mini/blob/main/Kelompok_6_Python_Machine_Learning_For_K_Means.ipynb\" target=\"_parent\"><img src=\"https://colab.research.google.com/assets/colab-badge.svg\" alt=\"Open In Colab\"/></a>"
      ]
    },
    {
      "cell_type": "markdown",
      "metadata": {
        "id": "fXZuzm-PctMq"
      },
      "source": [
        "# <strong>Python  Machine Learning For K-Means\n",
        "# Kelompok 6 - Mini Project Idea\n",
        "\n",
        "1. Ayu Tri Rahmawati             - Winning Eleven\n",
        "2. Sonia Bintang                 - Winning Eleven\n",
        "3. Vigia Rahayu Meilani          - Winning Eleven\n",
        "4. Diki Wahyu Pratama            - Jumatec\n",
        "5. Sinta Puspa Sari              - Jumatec\n",
        "6. Laili Miftachur Rohmah        - Jumatec\n",
        "7. Maulidia Nur Zahrotun Na`Imah - Jumatec\n",
        "\n",
        "![1_c_fiB-YgbnMl6nntYGBMHQ (1).jpeg](data:image/jpeg;base64,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)"
      ]
    },
    {
      "cell_type": "markdown",
      "metadata": {
        "id": "XowzMyHA4Ao0"
      },
      "source": [
        "**LANGKAH 1**\n",
        "\n",
        "**KONEKSI DENGAN GITHUB**\n",
        "\n",
        "(https://github.com/Dikiwp30/Dataset/blob/main/diabetes.csv)"
      ]
    },
    {
      "cell_type": "code",
      "source": [
        "!wget -O diabetes.csv https://raw.githubusercontent.com/Dikiwp30/Dataset/main/diabetes.csv"
      ],
      "metadata": {
        "colab": {
          "base_uri": "https://localhost:8080/"
        },
        "id": "9vj6F9KEt7oX",
        "outputId": "5a4d6109-5976-437f-ea6a-dc120ded6bd5"
      },
      "execution_count": null,
      "outputs": [
        {
          "output_type": "stream",
          "name": "stdout",
          "text": [
            "--2022-03-25 11:52:50--  https://raw.githubusercontent.com/Dikiwp30/Dataset/main/diabetes.csv\n",
            "Resolving raw.githubusercontent.com (raw.githubusercontent.com)... 185.199.108.133, 185.199.110.133, 185.199.111.133, ...\n",
            "Connecting to raw.githubusercontent.com (raw.githubusercontent.com)|185.199.108.133|:443... connected.\n",
            "HTTP request sent, awaiting response... 200 OK\n",
            "Length: 23873 (23K) [text/plain]\n",
            "Saving to: ‘diabetes.csv’\n",
            "\n",
            "\rdiabetes.csv          0%[                    ]       0  --.-KB/s               \rdiabetes.csv        100%[===================>]  23.31K  --.-KB/s    in 0s      \n",
            "\n",
            "2022-03-25 11:52:50 (66.8 MB/s) - ‘diabetes.csv’ saved [23873/23873]\n",
            "\n"
          ]
        }
      ]
    },
    {
      "cell_type": "markdown",
      "metadata": {
        "id": "9DKDjjcz4w-p"
      },
      "source": [
        "**CARA CEK ISI DARI GITHUB (CARA ISI FOLDER)**"
      ]
    },
    {
      "cell_type": "code",
      "metadata": {
        "id": "kx961-F8FSBu",
        "colab": {
          "base_uri": "https://localhost:8080/"
        },
        "outputId": "e7a2ca26-1c60-4ecd-d9b2-fd6077c2341c"
      },
      "source": [
        "!ls "
      ],
      "execution_count": null,
      "outputs": [
        {
          "output_type": "stream",
          "name": "stdout",
          "text": [
            "diabetes.csv  sample_data\n"
          ]
        }
      ]
    },
    {
      "cell_type": "markdown",
      "metadata": {
        "id": "DG2X1eyP5cYs"
      },
      "source": [
        "**LANGKAH 2**\n",
        "\n",
        "**IMPORT LIBRARY YANG DIBUTUHKAN**\n",
        "\n",
        "> Numpy => Digunakan untuk kebutuhan scientific\n",
        "\n",
        "https://numpy.org/install/\n",
        "\n",
        "> Matplotlib => Untuk membuat grafik plot sesuai kebutuhan\n",
        "\n",
        "https://matplotlib.org/stable/users/installing.html\n",
        "\n",
        "> Pandas => Untuk manipulasi data\n",
        "\n",
        "https://pandas.pydata.org/pandas-docs/stable/getting_started/install.html\n",
        "> SKlearn => Untuk Algoritma KMean\n",
        "\n",
        "https://scikit-learn.org/stable/\n",
        "\n"
      ]
    },
    {
      "cell_type": "code",
      "metadata": {
        "id": "-rdSZnmHbd6U"
      },
      "source": [
        "#import library yang digunakan\n",
        "import matplotlib.pyplot as plt\n",
        "import numpy as np\n",
        "import pandas as pd\n",
        "from sklearn.cluster import KMeans"
      ],
      "execution_count": null,
      "outputs": []
    },
    {
      "cell_type": "markdown",
      "metadata": {
        "id": "0o4cdWmenOov"
      },
      "source": [
        "**LANGKAH 3**\n",
        "\n",
        "**MENYIAPKAN DATASET**\n",
        "\n",
        "https://raw.githubusercontent.com/Dikiwp30/Dataset/main/diabetes.csv"
      ]
    },
    {
      "cell_type": "code",
      "source": [
        "#menyiapkan data dan memanggil dataset dari Github\n",
        "Dataset = pd.read_csv('https://raw.githubusercontent.com/Dikiwp30/Dataset/main/diabetes.csv', error_bad_lines=False)\n",
        "Dataset.keys()"
      ],
      "metadata": {
        "colab": {
          "base_uri": "https://localhost:8080/"
        },
        "id": "1mezA589uu2g",
        "outputId": "57b8cdf5-2810-4f45-e69c-6510f153cf3e"
      },
      "execution_count": null,
      "outputs": [
        {
          "output_type": "stream",
          "name": "stderr",
          "text": [
            "/usr/local/lib/python3.7/dist-packages/IPython/core/interactiveshell.py:2882: FutureWarning: The error_bad_lines argument has been deprecated and will be removed in a future version.\n",
            "\n",
            "\n",
            "  exec(code_obj, self.user_global_ns, self.user_ns)\n"
          ]
        },
        {
          "output_type": "execute_result",
          "data": {
            "text/plain": [
              "Index(['Pregnancies', 'Glucose', 'BloodPressure', 'SkinThickness', 'Insulin',\n",
              "       'BMI', 'DiabetesPedigreeFunction', 'Age', 'Outcome'],\n",
              "      dtype='object')"
            ]
          },
          "metadata": {},
          "execution_count": 17
        }
      ]
    },
    {
      "cell_type": "code",
      "metadata": {
        "id": "bC89su1fojZi",
        "colab": {
          "base_uri": "https://localhost:8080/",
          "height": 206
        },
        "outputId": "6167cee6-e5ef-47cf-9aa2-e9b30d2a5fec"
      },
      "source": [
        "# Menampilkan 5 baris pertama dari dataset\n",
        "dataku = pd.DataFrame(Dataset)\n",
        "dataku.head()"
      ],
      "execution_count": null,
      "outputs": [
        {
          "output_type": "execute_result",
          "data": {
            "text/plain": [
              "   Pregnancies  Glucose  BloodPressure  SkinThickness  Insulin   BMI  \\\n",
              "0            6      148             72             35        0  33.6   \n",
              "1            1       85             66             29        0  26.6   \n",
              "2            8      183             64              0        0  23.3   \n",
              "3            1       89             66             23       94  28.1   \n",
              "4            0      137             40             35      168  43.1   \n",
              "\n",
              "   DiabetesPedigreeFunction  Age  Outcome  \n",
              "0                     0.627   50        1  \n",
              "1                     0.351   31        0  \n",
              "2                     0.672   32        1  \n",
              "3                     0.167   21        0  \n",
              "4                     2.288   33        1  "
            ],
            "text/html": [
              "\n",
              "  <div id=\"df-47be1058-974f-4dee-90e0-54d3bee984f5\">\n",
              "    <div class=\"colab-df-container\">\n",
              "      <div>\n",
              "<style scoped>\n",
              "    .dataframe tbody tr th:only-of-type {\n",
              "        vertical-align: middle;\n",
              "    }\n",
              "\n",
              "    .dataframe tbody tr th {\n",
              "        vertical-align: top;\n",
              "    }\n",
              "\n",
              "    .dataframe thead th {\n",
              "        text-align: right;\n",
              "    }\n",
              "</style>\n",
              "<table border=\"1\" class=\"dataframe\">\n",
              "  <thead>\n",
              "    <tr style=\"text-align: right;\">\n",
              "      <th></th>\n",
              "      <th>Pregnancies</th>\n",
              "      <th>Glucose</th>\n",
              "      <th>BloodPressure</th>\n",
              "      <th>SkinThickness</th>\n",
              "      <th>Insulin</th>\n",
              "      <th>BMI</th>\n",
              "      <th>DiabetesPedigreeFunction</th>\n",
              "      <th>Age</th>\n",
              "      <th>Outcome</th>\n",
              "    </tr>\n",
              "  </thead>\n",
              "  <tbody>\n",
              "    <tr>\n",
              "      <th>0</th>\n",
              "      <td>6</td>\n",
              "      <td>148</td>\n",
              "      <td>72</td>\n",
              "      <td>35</td>\n",
              "      <td>0</td>\n",
              "      <td>33.6</td>\n",
              "      <td>0.627</td>\n",
              "      <td>50</td>\n",
              "      <td>1</td>\n",
              "    </tr>\n",
              "    <tr>\n",
              "      <th>1</th>\n",
              "      <td>1</td>\n",
              "      <td>85</td>\n",
              "      <td>66</td>\n",
              "      <td>29</td>\n",
              "      <td>0</td>\n",
              "      <td>26.6</td>\n",
              "      <td>0.351</td>\n",
              "      <td>31</td>\n",
              "      <td>0</td>\n",
              "    </tr>\n",
              "    <tr>\n",
              "      <th>2</th>\n",
              "      <td>8</td>\n",
              "      <td>183</td>\n",
              "      <td>64</td>\n",
              "      <td>0</td>\n",
              "      <td>0</td>\n",
              "      <td>23.3</td>\n",
              "      <td>0.672</td>\n",
              "      <td>32</td>\n",
              "      <td>1</td>\n",
              "    </tr>\n",
              "    <tr>\n",
              "      <th>3</th>\n",
              "      <td>1</td>\n",
              "      <td>89</td>\n",
              "      <td>66</td>\n",
              "      <td>23</td>\n",
              "      <td>94</td>\n",
              "      <td>28.1</td>\n",
              "      <td>0.167</td>\n",
              "      <td>21</td>\n",
              "      <td>0</td>\n",
              "    </tr>\n",
              "    <tr>\n",
              "      <th>4</th>\n",
              "      <td>0</td>\n",
              "      <td>137</td>\n",
              "      <td>40</td>\n",
              "      <td>35</td>\n",
              "      <td>168</td>\n",
              "      <td>43.1</td>\n",
              "      <td>2.288</td>\n",
              "      <td>33</td>\n",
              "      <td>1</td>\n",
              "    </tr>\n",
              "  </tbody>\n",
              "</table>\n",
              "</div>\n",
              "      <button class=\"colab-df-convert\" onclick=\"convertToInteractive('df-47be1058-974f-4dee-90e0-54d3bee984f5')\"\n",
              "              title=\"Convert this dataframe to an interactive table.\"\n",
              "              style=\"display:none;\">\n",
              "        \n",
              "  <svg xmlns=\"http://www.w3.org/2000/svg\" height=\"24px\"viewBox=\"0 0 24 24\"\n",
              "       width=\"24px\">\n",
              "    <path d=\"M0 0h24v24H0V0z\" fill=\"none\"/>\n",
              "    <path d=\"M18.56 5.44l.94 2.06.94-2.06 2.06-.94-2.06-.94-.94-2.06-.94 2.06-2.06.94zm-11 1L8.5 8.5l.94-2.06 2.06-.94-2.06-.94L8.5 2.5l-.94 2.06-2.06.94zm10 10l.94 2.06.94-2.06 2.06-.94-2.06-.94-.94-2.06-.94 2.06-2.06.94z\"/><path d=\"M17.41 7.96l-1.37-1.37c-.4-.4-.92-.59-1.43-.59-.52 0-1.04.2-1.43.59L10.3 9.45l-7.72 7.72c-.78.78-.78 2.05 0 2.83L4 21.41c.39.39.9.59 1.41.59.51 0 1.02-.2 1.41-.59l7.78-7.78 2.81-2.81c.8-.78.8-2.07 0-2.86zM5.41 20L4 18.59l7.72-7.72 1.47 1.35L5.41 20z\"/>\n",
              "  </svg>\n",
              "      </button>\n",
              "      \n",
              "  <style>\n",
              "    .colab-df-container {\n",
              "      display:flex;\n",
              "      flex-wrap:wrap;\n",
              "      gap: 12px;\n",
              "    }\n",
              "\n",
              "    .colab-df-convert {\n",
              "      background-color: #E8F0FE;\n",
              "      border: none;\n",
              "      border-radius: 50%;\n",
              "      cursor: pointer;\n",
              "      display: none;\n",
              "      fill: #1967D2;\n",
              "      height: 32px;\n",
              "      padding: 0 0 0 0;\n",
              "      width: 32px;\n",
              "    }\n",
              "\n",
              "    .colab-df-convert:hover {\n",
              "      background-color: #E2EBFA;\n",
              "      box-shadow: 0px 1px 2px rgba(60, 64, 67, 0.3), 0px 1px 3px 1px rgba(60, 64, 67, 0.15);\n",
              "      fill: #174EA6;\n",
              "    }\n",
              "\n",
              "    [theme=dark] .colab-df-convert {\n",
              "      background-color: #3B4455;\n",
              "      fill: #D2E3FC;\n",
              "    }\n",
              "\n",
              "    [theme=dark] .colab-df-convert:hover {\n",
              "      background-color: #434B5C;\n",
              "      box-shadow: 0px 1px 3px 1px rgba(0, 0, 0, 0.15);\n",
              "      filter: drop-shadow(0px 1px 2px rgba(0, 0, 0, 0.3));\n",
              "      fill: #FFFFFF;\n",
              "    }\n",
              "  </style>\n",
              "\n",
              "      <script>\n",
              "        const buttonEl =\n",
              "          document.querySelector('#df-47be1058-974f-4dee-90e0-54d3bee984f5 button.colab-df-convert');\n",
              "        buttonEl.style.display =\n",
              "          google.colab.kernel.accessAllowed ? 'block' : 'none';\n",
              "\n",
              "        async function convertToInteractive(key) {\n",
              "          const element = document.querySelector('#df-47be1058-974f-4dee-90e0-54d3bee984f5');\n",
              "          const dataTable =\n",
              "            await google.colab.kernel.invokeFunction('convertToInteractive',\n",
              "                                                     [key], {});\n",
              "          if (!dataTable) return;\n",
              "\n",
              "          const docLinkHtml = 'Like what you see? Visit the ' +\n",
              "            '<a target=\"_blank\" href=https://colab.research.google.com/notebooks/data_table.ipynb>data table notebook</a>'\n",
              "            + ' to learn more about interactive tables.';\n",
              "          element.innerHTML = '';\n",
              "          dataTable['output_type'] = 'display_data';\n",
              "          await google.colab.output.renderOutput(dataTable, element);\n",
              "          const docLink = document.createElement('div');\n",
              "          docLink.innerHTML = docLinkHtml;\n",
              "          element.appendChild(docLink);\n",
              "        }\n",
              "      </script>\n",
              "    </div>\n",
              "  </div>\n",
              "  "
            ]
          },
          "metadata": {},
          "execution_count": 18
        }
      ]
    },
    {
      "cell_type": "code",
      "metadata": {
        "id": "KS-8vNFOeHvo",
        "colab": {
          "base_uri": "https://localhost:8080/"
        },
        "outputId": "eced8327-978f-4619-cd8c-1b7efe5465ee"
      },
      "source": [
        "#konversi data ke array\n",
        "X = np.array(Dataset)\n",
        "print (X)"
      ],
      "execution_count": null,
      "outputs": [
        {
          "output_type": "stream",
          "name": "stdout",
          "text": [
            "[[  6.    148.     72.    ...   0.627  50.      1.   ]\n",
            " [  1.     85.     66.    ...   0.351  31.      0.   ]\n",
            " [  8.    183.     64.    ...   0.672  32.      1.   ]\n",
            " ...\n",
            " [  5.    121.     72.    ...   0.245  30.      0.   ]\n",
            " [  1.    126.     60.    ...   0.349  47.      1.   ]\n",
            " [  1.     93.     70.    ...   0.315  23.      0.   ]]\n"
          ]
        }
      ]
    },
    {
      "cell_type": "code",
      "source": [
        "dataku.info()"
      ],
      "metadata": {
        "colab": {
          "base_uri": "https://localhost:8080/"
        },
        "id": "gF_5vVgi8hof",
        "outputId": "9e2a818d-8e8c-47b9-9fb2-8fedc6fda970"
      },
      "execution_count": null,
      "outputs": [
        {
          "output_type": "stream",
          "name": "stdout",
          "text": [
            "<class 'pandas.core.frame.DataFrame'>\n",
            "RangeIndex: 768 entries, 0 to 767\n",
            "Data columns (total 9 columns):\n",
            " #   Column                    Non-Null Count  Dtype  \n",
            "---  ------                    --------------  -----  \n",
            " 0   Pregnancies               768 non-null    int64  \n",
            " 1   Glucose                   768 non-null    int64  \n",
            " 2   BloodPressure             768 non-null    int64  \n",
            " 3   SkinThickness             768 non-null    int64  \n",
            " 4   Insulin                   768 non-null    int64  \n",
            " 5   BMI                       768 non-null    float64\n",
            " 6   DiabetesPedigreeFunction  768 non-null    float64\n",
            " 7   Age                       768 non-null    int64  \n",
            " 8   Outcome                   768 non-null    int64  \n",
            "dtypes: float64(2), int64(7)\n",
            "memory usage: 54.1 KB\n"
          ]
        }
      ]
    },
    {
      "cell_type": "code",
      "metadata": {
        "id": "YVgh8RhTeOuo",
        "colab": {
          "base_uri": "https://localhost:8080/",
          "height": 294
        },
        "outputId": "dc2e8115-d04e-4c8e-f088-2e965766fb17"
      },
      "source": [
        "#menampilkan data dalam bentuk scatter plot\n",
        "plt.scatter(X[:,0],X[:,1], Label='True Position')\n",
        "plt.xlabel(\"Glucose, Pregnancies\")\n",
        "plt.ylabel(\"Outcome\")\n",
        "plt.title(\"Diabetes\")\n",
        "plt.show()"
      ],
      "execution_count": null,
      "outputs": [
        {
          "output_type": "display_data",
          "data": {
            "text/plain": [
              "<Figure size 432x288 with 1 Axes>"
            ],
            "image/png": "[encoded data removed]"
          },
          "metadata": {
            "needs_background": "light"
          }
        }
      ]
    },
    {
      "cell_type": "markdown",
      "metadata": {
        "id": "79rC4Y9NpK0Q"
      },
      "source": [
        "**LANGKAH 4**\n",
        "\n",
        "**MENGGUNAKAN LIBRARY K-MEANS**"
      ]
    },
    {
      "cell_type": "code",
      "metadata": {
        "id": "pyeEpEkpmnkm",
        "colab": {
          "base_uri": "https://localhost:8080/"
        },
        "outputId": "073da983-3cde-42a2-adb5-08fddf11961e"
      },
      "source": [
        "KMeans = KMeans(n_clusters=2)\n",
        "KMeans.fit(X)"
      ],
      "execution_count": null,
      "outputs": [
        {
          "output_type": "execute_result",
          "data": {
            "text/plain": [
              "KMeans(n_clusters=2)"
            ]
          },
          "metadata": {},
          "execution_count": 24
        }
      ]
    },
    {
      "cell_type": "code",
      "metadata": {
        "id": "ufGvM_Wjqxpp",
        "colab": {
          "base_uri": "https://localhost:8080/"
        },
        "outputId": "17c0e1de-ba53-4518-ba10-0c05e8914cb8"
      },
      "source": [
        "#menampilkan nilai centroid\n",
        "print(KMeans.cluster_centers_)"
      ],
      "execution_count": null,
      "outputs": [
        {
          "output_type": "stream",
          "name": "stdout",
          "text": [
            "[[  3.88391376 115.26699834  68.09784411  17.6185738   32.21227197\n",
            "   31.17363184   0.43757048  33.11442786   0.30182421]\n",
            " [  3.7030303  141.46060606  72.78787879  31.2        253.70909091\n",
            "   34.98545455   0.59724848  33.7030303    0.52121212]]\n"
          ]
        }
      ]
    },
    {
      "cell_type": "code",
      "source": [
        "#menampilkan label data point\n",
        "print(KMeans.labels_)"
      ],
      "metadata": {
        "colab": {
          "base_uri": "https://localhost:8080/"
        },
        "id": "JngKyVI3Ae_3",
        "outputId": "2da88763-9d76-4a7d-b811-541e63dc7c23"
      },
      "execution_count": null,
      "outputs": [
        {
          "output_type": "stream",
          "name": "stdout",
          "text": [
            "[0 0 0 0 1 0 0 0 1 0 0 0 0 1 1 0 1 0 0 0 1 0 0 0 1 0 0 0 0 0 0 1 0 0 0 1 0\n",
            " 0 0 1 0 0 0 1 0 0 0 0 0 0 0 0 0 1 1 0 1 0 0 0 0 0 0 0 0 0 0 0 0 0 0 0 0 1\n",
            " 0 0 0 0 0 0 0 0 0 0 0 0 0 0 0 0 0 1 0 0 0 1 0 0 0 1 0 0 0 0 0 1 0 0 0 0 0\n",
            " 1 0 0 1 0 0 0 0 0 0 0 0 0 0 0 0 0 1 0 1 0 1 0 0 0 0 0 0 1 0 0 0 0 1 0 0 0\n",
            " 0 0 1 0 1 1 0 0 0 0 0 0 0 0 1 0 0 1 0 0 0 0 0 0 0 0 0 0 0 0 0 0 0 0 0 0 0\n",
            " 0 1 0 0 1 0 0 0 0 0 1 0 0 0 1 0 0 0 0 1 0 1 0 0 0 0 0 0 0 1 1 0 0 0 0 1 0\n",
            " 0 1 0 0 0 0 1 0 0 1 0 0 0 0 1 0 0 0 0 0 0 1 1 0 0 1 1 0 0 0 0 0 1 0 0 0 1\n",
            " 1 0 0 0 0 0 0 0 0 0 0 0 0 0 0 0 0 0 0 0 1 0 0 1 0 0 0 1 1 0 0 0 0 1 1 0 0\n",
            " 1 1 1 0 0 0 0 0 0 0 0 1 1 1 0 1 0 0 0 0 0 0 0 0 1 0 0 0 0 1 1 0 0 0 0 0 0\n",
            " 0 0 1 0 0 1 0 0 0 0 0 0 0 0 0 0 0 0 0 0 0 0 0 1 0 0 1 1 0 0 0 1 0 0 0 0 0\n",
            " 1 0 0 0 1 1 0 0 0 0 0 0 1 0 0 0 0 0 1 0 1 0 1 0 0 1 0 0 0 0 0 0 0 0 0 1 0\n",
            " 0 0 1 0 1 1 0 1 1 0 0 0 0 1 0 0 0 1 1 0 1 1 1 0 0 0 0 0 0 0 0 0 0 0 0 0 0\n",
            " 0 0 0 0 0 0 0 0 1 0 0 0 0 0 1 0 0 0 0 0 0 0 0 0 0 1 0 0 0 0 0 0 1 0 0 0 1\n",
            " 0 0 0 0 1 1 1 0 0 0 0 0 0 0 0 0 0 1 1 0 0 0 0 0 0 0 1 0 0 0 1 0 0 0 0 1 0\n",
            " 0 1 0 0 0 0 0 0 0 0 1 0 0 0 0 0 0 0 0 0 1 1 1 1 0 0 0 1 1 1 0 0 0 0 0 0 0\n",
            " 1 0 0 0 0 0 1 0 0 0 0 0 0 0 1 0 0 0 0 1 0 0 0 0 0 0 0 0 0 1 0 0 0 1 0 0 0\n",
            " 0 0 1 1 0 0 0 0 0 0 0 0 0 0 1 0 1 1 1 1 1 0 1 0 0 0 0 0 1 0 0 0 0 0 0 0 0\n",
            " 0 0 0 0 1 0 0 0 0 0 0 0 0 0 0 1 1 1 1 0 0 0 0 0 0 0 1 0 1 0 0 0 0 1 0 0 0\n",
            " 0 0 1 0 1 0 0 1 0 0 0 0 0 1 0 0 0 0 0 1 0 0 1 1 0 0 0 0 0 1 0 0 1 0 1 0 0\n",
            " 0 0 0 0 1 0 1 1 0 0 1 0 1 1 0 1 0 0 1 0 0 0 0 1 0 0 0 0 0 0 1 0 0 0 0 1 0\n",
            " 1 0 0 0 1 0 0 0 1 0 0 0 0 1 0 0 0 0 0 0 0 0 0 1 0 0 0 0]\n"
          ]
        }
      ]
    },
    {
      "cell_type": "markdown",
      "metadata": {
        "id": "95-OUvEkp6MZ"
      },
      "source": [
        "**LANGKAH 5**\n",
        "\n",
        "**MENAMPILKAN OUTPUT**"
      ]
    },
    {
      "cell_type": "code",
      "metadata": {
        "id": "3rtyPkkwtdD7",
        "colab": {
          "base_uri": "https://localhost:8080/",
          "height": 294
        },
        "outputId": "72d1fff6-145b-4865-bc01-1ce59bc2ee09"
      },
      "source": [
        "#plot data point\n",
        "#visualisasi klusterisasi\n",
        "plt.scatter(X[:,0],X[:,1], c=KMeans.labels_, cmap='rainbow')\n",
        "plt.xlabel(\"Glucose, Pregnancies\")\n",
        "plt.ylabel(\"Outcome\")\n",
        "plt.title(\"Diabetes\")\n",
        "plt.show()"
      ],
      "execution_count": null,
      "outputs": [
        {
          "output_type": "display_data",
          "data": {
            "text/plain": [
              "<Figure size 432x288 with 1 Axes>"
            ],
            "image/png": "[encoded data removed]"
          },
          "metadata": {
            "needs_background": "light"
          }
        }
      ]
    },
    {
      "cell_type": "code",
      "metadata": {
        "id": "JI-MBVTuvc4O",
        "colab": {
          "base_uri": "https://localhost:8080/",
          "height": 294
        },
        "outputId": "4b78e50a-6fd5-478a-ae84-1d2b6749413a"
      },
      "source": [
        "#plot data point\n",
        "#visualisasi klusterisasi\n",
        "#menampilkan centroid dengan warna hitam\n",
        "plt.scatter(X[:,0],X[:,1], c=KMeans.labels_, \n",
        "            cmap='rainbow')\n",
        "plt.scatter(KMeans.cluster_centers_[:,0], \n",
        "            KMeans.cluster_centers_[:,1], \n",
        "            color='black')\n",
        "plt.xlabel(\"Glucose\", 'Pregnancies')\n",
        "plt.ylabel(\"Outcome\")\n",
        "plt.title(\"Diabetes\")\n",
        "plt.show()"
      ],
      "execution_count": null,
      "outputs": [
        {
          "output_type": "display_data",
          "data": {
            "text/plain": [
              "<Figure size 432x288 with 1 Axes>"
            ],
            "image/png": "[encoded data removed]"
          },
          "metadata": {
            "needs_background": "light"
          }
        }
      ]
    },
    {
      "cell_type": "markdown",
      "metadata": {
        "id": "JpyW-yU4bWHv"
      },
      "source": [
        "\n",
        "\n",
        "# Thank You "
      ]
    }
  ]
}